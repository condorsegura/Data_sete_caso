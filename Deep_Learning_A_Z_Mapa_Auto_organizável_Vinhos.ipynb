{
  "nbformat": 4,
  "nbformat_minor": 0,
  "metadata": {
    "colab": {
      "provenance": []
    },
    "kernelspec": {
      "name": "python3",
      "display_name": "Python 3"
    },
    "language_info": {
      "name": "python"
    }
  },
  "cells": [
    {
      "cell_type": "markdown",
      "source": [
        "# Deep Learning A Z Mapa Autoorganizável - Vinhos"
      ],
      "metadata": {
        "id": "CeSsm_WrHePD"
      }
    },
    {
      "cell_type": "code",
      "execution_count": null,
      "metadata": {
        "colab": {
          "base_uri": "https://localhost:8080/"
        },
        "id": "p1C6w041HL2R",
        "outputId": "5da67846-2dbf-4abb-e7da-4e0e09c0343f"
      },
      "outputs": [
        {
          "output_type": "stream",
          "name": "stdout",
          "text": [
            "Collecting minisom\n",
            "  Downloading MiniSom-2.3.2.tar.gz (10 kB)\n",
            "  Preparing metadata (setup.py) ... \u001b[?25l\u001b[?25hdone\n",
            "Building wheels for collected packages: minisom\n",
            "  Building wheel for minisom (setup.py) ... \u001b[?25l\u001b[?25hdone\n",
            "  Created wheel for minisom: filename=MiniSom-2.3.2-py3-none-any.whl size=10651 sha256=04f49335e8442fa8bf3d3577898f4c43c520233cdd29166af2a3972eaf08f520\n",
            "  Stored in directory: /root/.cache/pip/wheels/b4/f6/8a/9daf8831901c3e3805775633404248f10663d1c80b7e5a1314\n",
            "Successfully built minisom\n",
            "Installing collected packages: minisom\n",
            "Successfully installed minisom-2.3.2\n"
          ]
        }
      ],
      "source": [
        "!pip install minisom"
      ]
    },
    {
      "cell_type": "code",
      "source": [
        "import minisom\n",
        "import pandas as pd\n",
        "import sklearn\n",
        "import matplotlib"
      ],
      "metadata": {
        "id": "KMZvPW8gIpgp"
      },
      "execution_count": null,
      "outputs": []
    },
    {
      "cell_type": "code",
      "source": [
        "pd.__version__, sklearn.__version__, matplotlib.__version__"
      ],
      "metadata": {
        "colab": {
          "base_uri": "https://localhost:8080/"
        },
        "id": "BXALufLxIx-T",
        "outputId": "3debf9bf-d3e9-48f1-88d6-64ec7d21ef91"
      },
      "execution_count": null,
      "outputs": [
        {
          "output_type": "execute_result",
          "data": {
            "text/plain": [
              "('2.0.3', '1.2.2', '3.7.1')"
            ]
          },
          "metadata": {},
          "execution_count": 3
        }
      ]
    },
    {
      "cell_type": "code",
      "source": [
        "from minisom import MiniSom\n",
        "from sklearn.preprocessing import MinMaxScaler\n",
        "from matplotlib.pylab import pcolor, colorbar, plot"
      ],
      "metadata": {
        "id": "Dl3UscRII0W_"
      },
      "execution_count": null,
      "outputs": []
    },
    {
      "cell_type": "code",
      "source": [
        "base = pd.read_csv('wines.csv')\n",
        "base"
      ],
      "metadata": {
        "colab": {
          "base_uri": "https://localhost:8080/",
          "height": 470
        },
        "id": "x4dPY3YKJHrq",
        "outputId": "4fa5f077-bc2d-41b8-aa67-9bbc455651b6"
      },
      "execution_count": null,
      "outputs": [
        {
          "output_type": "execute_result",
          "data": {
            "text/plain": [
              "     Class  Alcohol  Malic acid   Ash   Alcalinity of ash  Magnesium  \\\n",
              "0        1    14.23        1.71  2.43                15.6        127   \n",
              "1        1    13.20        1.78  2.14                11.2        100   \n",
              "2        1    13.16        2.36  2.67                18.6        101   \n",
              "3        1    14.37        1.95  2.50                16.8        113   \n",
              "4        1    13.24        2.59  2.87                21.0        118   \n",
              "..     ...      ...         ...   ...                 ...        ...   \n",
              "173      3    13.71        5.65  2.45                20.5         95   \n",
              "174      3    13.40        3.91  2.48                23.0        102   \n",
              "175      3    13.27        4.28  2.26                20.0        120   \n",
              "176      3    13.17        2.59  2.37                20.0        120   \n",
              "177      3    14.13        4.10  2.74                24.5         96   \n",
              "\n",
              "     Total phenols  Flavanoids  Nonflavanoid phenols  Proanthocyanins  \\\n",
              "0             2.80        3.06                  0.28             2.29   \n",
              "1             2.65        2.76                  0.26             1.28   \n",
              "2             2.80        3.24                  0.30             2.81   \n",
              "3             3.85        3.49                  0.24             2.18   \n",
              "4             2.80        2.69                  0.39             1.82   \n",
              "..             ...         ...                   ...              ...   \n",
              "173           1.68        0.61                  0.52             1.06   \n",
              "174           1.80        0.75                  0.43             1.41   \n",
              "175           1.59        0.69                  0.43             1.35   \n",
              "176           1.65        0.68                  0.53             1.46   \n",
              "177           2.05        0.76                  0.56             1.35   \n",
              "\n",
              "     Color intensity   Hue  OD280/OD315 of diluted wines  Proline  \n",
              "0               5.64  1.04                          3.92     1065  \n",
              "1               4.38  1.05                          3.40     1050  \n",
              "2               5.68  1.03                          3.17     1185  \n",
              "3               7.80  0.86                          3.45     1480  \n",
              "4               4.32  1.04                          2.93      735  \n",
              "..               ...   ...                           ...      ...  \n",
              "173             7.70  0.64                          1.74      740  \n",
              "174             7.30  0.70                          1.56      750  \n",
              "175            10.20  0.59                          1.56      835  \n",
              "176             9.30  0.60                          1.62      840  \n",
              "177             9.20  0.61                          1.60      560  \n",
              "\n",
              "[178 rows x 14 columns]"
            ],
            "text/html": [
              "\n",
              "  <div id=\"df-44e87a09-95c6-4dac-aff8-7ca37816bc1d\" class=\"colab-df-container\">\n",
              "    <div>\n",
              "<style scoped>\n",
              "    .dataframe tbody tr th:only-of-type {\n",
              "        vertical-align: middle;\n",
              "    }\n",
              "\n",
              "    .dataframe tbody tr th {\n",
              "        vertical-align: top;\n",
              "    }\n",
              "\n",
              "    .dataframe thead th {\n",
              "        text-align: right;\n",
              "    }\n",
              "</style>\n",
              "<table border=\"1\" class=\"dataframe\">\n",
              "  <thead>\n",
              "    <tr style=\"text-align: right;\">\n",
              "      <th></th>\n",
              "      <th>Class</th>\n",
              "      <th>Alcohol</th>\n",
              "      <th>Malic acid</th>\n",
              "      <th>Ash</th>\n",
              "      <th>Alcalinity of ash</th>\n",
              "      <th>Magnesium</th>\n",
              "      <th>Total phenols</th>\n",
              "      <th>Flavanoids</th>\n",
              "      <th>Nonflavanoid phenols</th>\n",
              "      <th>Proanthocyanins</th>\n",
              "      <th>Color intensity</th>\n",
              "      <th>Hue</th>\n",
              "      <th>OD280/OD315 of diluted wines</th>\n",
              "      <th>Proline</th>\n",
              "    </tr>\n",
              "  </thead>\n",
              "  <tbody>\n",
              "    <tr>\n",
              "      <th>0</th>\n",
              "      <td>1</td>\n",
              "      <td>14.23</td>\n",
              "      <td>1.71</td>\n",
              "      <td>2.43</td>\n",
              "      <td>15.6</td>\n",
              "      <td>127</td>\n",
              "      <td>2.80</td>\n",
              "      <td>3.06</td>\n",
              "      <td>0.28</td>\n",
              "      <td>2.29</td>\n",
              "      <td>5.64</td>\n",
              "      <td>1.04</td>\n",
              "      <td>3.92</td>\n",
              "      <td>1065</td>\n",
              "    </tr>\n",
              "    <tr>\n",
              "      <th>1</th>\n",
              "      <td>1</td>\n",
              "      <td>13.20</td>\n",
              "      <td>1.78</td>\n",
              "      <td>2.14</td>\n",
              "      <td>11.2</td>\n",
              "      <td>100</td>\n",
              "      <td>2.65</td>\n",
              "      <td>2.76</td>\n",
              "      <td>0.26</td>\n",
              "      <td>1.28</td>\n",
              "      <td>4.38</td>\n",
              "      <td>1.05</td>\n",
              "      <td>3.40</td>\n",
              "      <td>1050</td>\n",
              "    </tr>\n",
              "    <tr>\n",
              "      <th>2</th>\n",
              "      <td>1</td>\n",
              "      <td>13.16</td>\n",
              "      <td>2.36</td>\n",
              "      <td>2.67</td>\n",
              "      <td>18.6</td>\n",
              "      <td>101</td>\n",
              "      <td>2.80</td>\n",
              "      <td>3.24</td>\n",
              "      <td>0.30</td>\n",
              "      <td>2.81</td>\n",
              "      <td>5.68</td>\n",
              "      <td>1.03</td>\n",
              "      <td>3.17</td>\n",
              "      <td>1185</td>\n",
              "    </tr>\n",
              "    <tr>\n",
              "      <th>3</th>\n",
              "      <td>1</td>\n",
              "      <td>14.37</td>\n",
              "      <td>1.95</td>\n",
              "      <td>2.50</td>\n",
              "      <td>16.8</td>\n",
              "      <td>113</td>\n",
              "      <td>3.85</td>\n",
              "      <td>3.49</td>\n",
              "      <td>0.24</td>\n",
              "      <td>2.18</td>\n",
              "      <td>7.80</td>\n",
              "      <td>0.86</td>\n",
              "      <td>3.45</td>\n",
              "      <td>1480</td>\n",
              "    </tr>\n",
              "    <tr>\n",
              "      <th>4</th>\n",
              "      <td>1</td>\n",
              "      <td>13.24</td>\n",
              "      <td>2.59</td>\n",
              "      <td>2.87</td>\n",
              "      <td>21.0</td>\n",
              "      <td>118</td>\n",
              "      <td>2.80</td>\n",
              "      <td>2.69</td>\n",
              "      <td>0.39</td>\n",
              "      <td>1.82</td>\n",
              "      <td>4.32</td>\n",
              "      <td>1.04</td>\n",
              "      <td>2.93</td>\n",
              "      <td>735</td>\n",
              "    </tr>\n",
              "    <tr>\n",
              "      <th>...</th>\n",
              "      <td>...</td>\n",
              "      <td>...</td>\n",
              "      <td>...</td>\n",
              "      <td>...</td>\n",
              "      <td>...</td>\n",
              "      <td>...</td>\n",
              "      <td>...</td>\n",
              "      <td>...</td>\n",
              "      <td>...</td>\n",
              "      <td>...</td>\n",
              "      <td>...</td>\n",
              "      <td>...</td>\n",
              "      <td>...</td>\n",
              "      <td>...</td>\n",
              "    </tr>\n",
              "    <tr>\n",
              "      <th>173</th>\n",
              "      <td>3</td>\n",
              "      <td>13.71</td>\n",
              "      <td>5.65</td>\n",
              "      <td>2.45</td>\n",
              "      <td>20.5</td>\n",
              "      <td>95</td>\n",
              "      <td>1.68</td>\n",
              "      <td>0.61</td>\n",
              "      <td>0.52</td>\n",
              "      <td>1.06</td>\n",
              "      <td>7.70</td>\n",
              "      <td>0.64</td>\n",
              "      <td>1.74</td>\n",
              "      <td>740</td>\n",
              "    </tr>\n",
              "    <tr>\n",
              "      <th>174</th>\n",
              "      <td>3</td>\n",
              "      <td>13.40</td>\n",
              "      <td>3.91</td>\n",
              "      <td>2.48</td>\n",
              "      <td>23.0</td>\n",
              "      <td>102</td>\n",
              "      <td>1.80</td>\n",
              "      <td>0.75</td>\n",
              "      <td>0.43</td>\n",
              "      <td>1.41</td>\n",
              "      <td>7.30</td>\n",
              "      <td>0.70</td>\n",
              "      <td>1.56</td>\n",
              "      <td>750</td>\n",
              "    </tr>\n",
              "    <tr>\n",
              "      <th>175</th>\n",
              "      <td>3</td>\n",
              "      <td>13.27</td>\n",
              "      <td>4.28</td>\n",
              "      <td>2.26</td>\n",
              "      <td>20.0</td>\n",
              "      <td>120</td>\n",
              "      <td>1.59</td>\n",
              "      <td>0.69</td>\n",
              "      <td>0.43</td>\n",
              "      <td>1.35</td>\n",
              "      <td>10.20</td>\n",
              "      <td>0.59</td>\n",
              "      <td>1.56</td>\n",
              "      <td>835</td>\n",
              "    </tr>\n",
              "    <tr>\n",
              "      <th>176</th>\n",
              "      <td>3</td>\n",
              "      <td>13.17</td>\n",
              "      <td>2.59</td>\n",
              "      <td>2.37</td>\n",
              "      <td>20.0</td>\n",
              "      <td>120</td>\n",
              "      <td>1.65</td>\n",
              "      <td>0.68</td>\n",
              "      <td>0.53</td>\n",
              "      <td>1.46</td>\n",
              "      <td>9.30</td>\n",
              "      <td>0.60</td>\n",
              "      <td>1.62</td>\n",
              "      <td>840</td>\n",
              "    </tr>\n",
              "    <tr>\n",
              "      <th>177</th>\n",
              "      <td>3</td>\n",
              "      <td>14.13</td>\n",
              "      <td>4.10</td>\n",
              "      <td>2.74</td>\n",
              "      <td>24.5</td>\n",
              "      <td>96</td>\n",
              "      <td>2.05</td>\n",
              "      <td>0.76</td>\n",
              "      <td>0.56</td>\n",
              "      <td>1.35</td>\n",
              "      <td>9.20</td>\n",
              "      <td>0.61</td>\n",
              "      <td>1.60</td>\n",
              "      <td>560</td>\n",
              "    </tr>\n",
              "  </tbody>\n",
              "</table>\n",
              "<p>178 rows × 14 columns</p>\n",
              "</div>\n",
              "    <div class=\"colab-df-buttons\">\n",
              "\n",
              "  <div class=\"colab-df-container\">\n",
              "    <button class=\"colab-df-convert\" onclick=\"convertToInteractive('df-44e87a09-95c6-4dac-aff8-7ca37816bc1d')\"\n",
              "            title=\"Convert this dataframe to an interactive table.\"\n",
              "            style=\"display:none;\">\n",
              "\n",
              "  <svg xmlns=\"http://www.w3.org/2000/svg\" height=\"24px\" viewBox=\"0 -960 960 960\">\n",
              "    <path d=\"M120-120v-720h720v720H120Zm60-500h600v-160H180v160Zm220 220h160v-160H400v160Zm0 220h160v-160H400v160ZM180-400h160v-160H180v160Zm440 0h160v-160H620v160ZM180-180h160v-160H180v160Zm440 0h160v-160H620v160Z\"/>\n",
              "  </svg>\n",
              "    </button>\n",
              "\n",
              "  <style>\n",
              "    .colab-df-container {\n",
              "      display:flex;\n",
              "      gap: 12px;\n",
              "    }\n",
              "\n",
              "    .colab-df-convert {\n",
              "      background-color: #E8F0FE;\n",
              "      border: none;\n",
              "      border-radius: 50%;\n",
              "      cursor: pointer;\n",
              "      display: none;\n",
              "      fill: #1967D2;\n",
              "      height: 32px;\n",
              "      padding: 0 0 0 0;\n",
              "      width: 32px;\n",
              "    }\n",
              "\n",
              "    .colab-df-convert:hover {\n",
              "      background-color: #E2EBFA;\n",
              "      box-shadow: 0px 1px 2px rgba(60, 64, 67, 0.3), 0px 1px 3px 1px rgba(60, 64, 67, 0.15);\n",
              "      fill: #174EA6;\n",
              "    }\n",
              "\n",
              "    .colab-df-buttons div {\n",
              "      margin-bottom: 4px;\n",
              "    }\n",
              "\n",
              "    [theme=dark] .colab-df-convert {\n",
              "      background-color: #3B4455;\n",
              "      fill: #D2E3FC;\n",
              "    }\n",
              "\n",
              "    [theme=dark] .colab-df-convert:hover {\n",
              "      background-color: #434B5C;\n",
              "      box-shadow: 0px 1px 3px 1px rgba(0, 0, 0, 0.15);\n",
              "      filter: drop-shadow(0px 1px 2px rgba(0, 0, 0, 0.3));\n",
              "      fill: #FFFFFF;\n",
              "    }\n",
              "  </style>\n",
              "\n",
              "    <script>\n",
              "      const buttonEl =\n",
              "        document.querySelector('#df-44e87a09-95c6-4dac-aff8-7ca37816bc1d button.colab-df-convert');\n",
              "      buttonEl.style.display =\n",
              "        google.colab.kernel.accessAllowed ? 'block' : 'none';\n",
              "\n",
              "      async function convertToInteractive(key) {\n",
              "        const element = document.querySelector('#df-44e87a09-95c6-4dac-aff8-7ca37816bc1d');\n",
              "        const dataTable =\n",
              "          await google.colab.kernel.invokeFunction('convertToInteractive',\n",
              "                                                    [key], {});\n",
              "        if (!dataTable) return;\n",
              "\n",
              "        const docLinkHtml = 'Like what you see? Visit the ' +\n",
              "          '<a target=\"_blank\" href=https://colab.research.google.com/notebooks/data_table.ipynb>data table notebook</a>'\n",
              "          + ' to learn more about interactive tables.';\n",
              "        element.innerHTML = '';\n",
              "        dataTable['output_type'] = 'display_data';\n",
              "        await google.colab.output.renderOutput(dataTable, element);\n",
              "        const docLink = document.createElement('div');\n",
              "        docLink.innerHTML = docLinkHtml;\n",
              "        element.appendChild(docLink);\n",
              "      }\n",
              "    </script>\n",
              "  </div>\n",
              "\n",
              "\n",
              "<div id=\"df-d886d1db-a676-4394-b280-e9694bc20fe3\">\n",
              "  <button class=\"colab-df-quickchart\" onclick=\"quickchart('df-d886d1db-a676-4394-b280-e9694bc20fe3')\"\n",
              "            title=\"Suggest charts\"\n",
              "            style=\"display:none;\">\n",
              "\n",
              "<svg xmlns=\"http://www.w3.org/2000/svg\" height=\"24px\"viewBox=\"0 0 24 24\"\n",
              "     width=\"24px\">\n",
              "    <g>\n",
              "        <path d=\"M19 3H5c-1.1 0-2 .9-2 2v14c0 1.1.9 2 2 2h14c1.1 0 2-.9 2-2V5c0-1.1-.9-2-2-2zM9 17H7v-7h2v7zm4 0h-2V7h2v10zm4 0h-2v-4h2v4z\"/>\n",
              "    </g>\n",
              "</svg>\n",
              "  </button>\n",
              "\n",
              "<style>\n",
              "  .colab-df-quickchart {\n",
              "      --bg-color: #E8F0FE;\n",
              "      --fill-color: #1967D2;\n",
              "      --hover-bg-color: #E2EBFA;\n",
              "      --hover-fill-color: #174EA6;\n",
              "      --disabled-fill-color: #AAA;\n",
              "      --disabled-bg-color: #DDD;\n",
              "  }\n",
              "\n",
              "  [theme=dark] .colab-df-quickchart {\n",
              "      --bg-color: #3B4455;\n",
              "      --fill-color: #D2E3FC;\n",
              "      --hover-bg-color: #434B5C;\n",
              "      --hover-fill-color: #FFFFFF;\n",
              "      --disabled-bg-color: #3B4455;\n",
              "      --disabled-fill-color: #666;\n",
              "  }\n",
              "\n",
              "  .colab-df-quickchart {\n",
              "    background-color: var(--bg-color);\n",
              "    border: none;\n",
              "    border-radius: 50%;\n",
              "    cursor: pointer;\n",
              "    display: none;\n",
              "    fill: var(--fill-color);\n",
              "    height: 32px;\n",
              "    padding: 0;\n",
              "    width: 32px;\n",
              "  }\n",
              "\n",
              "  .colab-df-quickchart:hover {\n",
              "    background-color: var(--hover-bg-color);\n",
              "    box-shadow: 0 1px 2px rgba(60, 64, 67, 0.3), 0 1px 3px 1px rgba(60, 64, 67, 0.15);\n",
              "    fill: var(--button-hover-fill-color);\n",
              "  }\n",
              "\n",
              "  .colab-df-quickchart-complete:disabled,\n",
              "  .colab-df-quickchart-complete:disabled:hover {\n",
              "    background-color: var(--disabled-bg-color);\n",
              "    fill: var(--disabled-fill-color);\n",
              "    box-shadow: none;\n",
              "  }\n",
              "\n",
              "  .colab-df-spinner {\n",
              "    border: 2px solid var(--fill-color);\n",
              "    border-color: transparent;\n",
              "    border-bottom-color: var(--fill-color);\n",
              "    animation:\n",
              "      spin 1s steps(1) infinite;\n",
              "  }\n",
              "\n",
              "  @keyframes spin {\n",
              "    0% {\n",
              "      border-color: transparent;\n",
              "      border-bottom-color: var(--fill-color);\n",
              "      border-left-color: var(--fill-color);\n",
              "    }\n",
              "    20% {\n",
              "      border-color: transparent;\n",
              "      border-left-color: var(--fill-color);\n",
              "      border-top-color: var(--fill-color);\n",
              "    }\n",
              "    30% {\n",
              "      border-color: transparent;\n",
              "      border-left-color: var(--fill-color);\n",
              "      border-top-color: var(--fill-color);\n",
              "      border-right-color: var(--fill-color);\n",
              "    }\n",
              "    40% {\n",
              "      border-color: transparent;\n",
              "      border-right-color: var(--fill-color);\n",
              "      border-top-color: var(--fill-color);\n",
              "    }\n",
              "    60% {\n",
              "      border-color: transparent;\n",
              "      border-right-color: var(--fill-color);\n",
              "    }\n",
              "    80% {\n",
              "      border-color: transparent;\n",
              "      border-right-color: var(--fill-color);\n",
              "      border-bottom-color: var(--fill-color);\n",
              "    }\n",
              "    90% {\n",
              "      border-color: transparent;\n",
              "      border-bottom-color: var(--fill-color);\n",
              "    }\n",
              "  }\n",
              "</style>\n",
              "\n",
              "  <script>\n",
              "    async function quickchart(key) {\n",
              "      const quickchartButtonEl =\n",
              "        document.querySelector('#' + key + ' button');\n",
              "      quickchartButtonEl.disabled = true;  // To prevent multiple clicks.\n",
              "      quickchartButtonEl.classList.add('colab-df-spinner');\n",
              "      try {\n",
              "        const charts = await google.colab.kernel.invokeFunction(\n",
              "            'suggestCharts', [key], {});\n",
              "      } catch (error) {\n",
              "        console.error('Error during call to suggestCharts:', error);\n",
              "      }\n",
              "      quickchartButtonEl.classList.remove('colab-df-spinner');\n",
              "      quickchartButtonEl.classList.add('colab-df-quickchart-complete');\n",
              "    }\n",
              "    (() => {\n",
              "      let quickchartButtonEl =\n",
              "        document.querySelector('#df-d886d1db-a676-4394-b280-e9694bc20fe3 button');\n",
              "      quickchartButtonEl.style.display =\n",
              "        google.colab.kernel.accessAllowed ? 'block' : 'none';\n",
              "    })();\n",
              "  </script>\n",
              "</div>\n",
              "\n",
              "  <div id=\"id_ec5d5fac-a06b-4aea-9bcd-fb122fb75a36\">\n",
              "    <style>\n",
              "      .colab-df-generate {\n",
              "        background-color: #E8F0FE;\n",
              "        border: none;\n",
              "        border-radius: 50%;\n",
              "        cursor: pointer;\n",
              "        display: none;\n",
              "        fill: #1967D2;\n",
              "        height: 32px;\n",
              "        padding: 0 0 0 0;\n",
              "        width: 32px;\n",
              "      }\n",
              "\n",
              "      .colab-df-generate:hover {\n",
              "        background-color: #E2EBFA;\n",
              "        box-shadow: 0px 1px 2px rgba(60, 64, 67, 0.3), 0px 1px 3px 1px rgba(60, 64, 67, 0.15);\n",
              "        fill: #174EA6;\n",
              "      }\n",
              "\n",
              "      [theme=dark] .colab-df-generate {\n",
              "        background-color: #3B4455;\n",
              "        fill: #D2E3FC;\n",
              "      }\n",
              "\n",
              "      [theme=dark] .colab-df-generate:hover {\n",
              "        background-color: #434B5C;\n",
              "        box-shadow: 0px 1px 3px 1px rgba(0, 0, 0, 0.15);\n",
              "        filter: drop-shadow(0px 1px 2px rgba(0, 0, 0, 0.3));\n",
              "        fill: #FFFFFF;\n",
              "      }\n",
              "    </style>\n",
              "    <button class=\"colab-df-generate\" onclick=\"generateWithVariable('base')\"\n",
              "            title=\"Generate code using this dataframe.\"\n",
              "            style=\"display:none;\">\n",
              "\n",
              "  <svg xmlns=\"http://www.w3.org/2000/svg\" height=\"24px\"viewBox=\"0 0 24 24\"\n",
              "       width=\"24px\">\n",
              "    <path d=\"M7,19H8.4L18.45,9,17,7.55,7,17.6ZM5,21V16.75L18.45,3.32a2,2,0,0,1,2.83,0l1.4,1.43a1.91,1.91,0,0,1,.58,1.4,1.91,1.91,0,0,1-.58,1.4L9.25,21ZM18.45,9,17,7.55Zm-12,3A5.31,5.31,0,0,0,4.9,8.1,5.31,5.31,0,0,0,1,6.5,5.31,5.31,0,0,0,4.9,4.9,5.31,5.31,0,0,0,6.5,1,5.31,5.31,0,0,0,8.1,4.9,5.31,5.31,0,0,0,12,6.5,5.46,5.46,0,0,0,6.5,12Z\"/>\n",
              "  </svg>\n",
              "    </button>\n",
              "    <script>\n",
              "      (() => {\n",
              "      const buttonEl =\n",
              "        document.querySelector('#id_ec5d5fac-a06b-4aea-9bcd-fb122fb75a36 button.colab-df-generate');\n",
              "      buttonEl.style.display =\n",
              "        google.colab.kernel.accessAllowed ? 'block' : 'none';\n",
              "\n",
              "      buttonEl.onclick = () => {\n",
              "        google.colab.notebook.generateWithVariable('base');\n",
              "      }\n",
              "      })();\n",
              "    </script>\n",
              "  </div>\n",
              "\n",
              "    </div>\n",
              "  </div>\n"
            ],
            "application/vnd.google.colaboratory.intrinsic+json": {
              "type": "dataframe",
              "variable_name": "base",
              "summary": "{\n  \"name\": \"base\",\n  \"rows\": 178,\n  \"fields\": [\n    {\n      \"column\": \"Class\",\n      \"properties\": {\n        \"dtype\": \"number\",\n        \"std\": 0,\n        \"min\": 1,\n        \"max\": 3,\n        \"num_unique_values\": 3,\n        \"samples\": [\n          1,\n          2,\n          3\n        ],\n        \"semantic_type\": \"\",\n        \"description\": \"\"\n      }\n    },\n    {\n      \"column\": \"Alcohol\",\n      \"properties\": {\n        \"dtype\": \"number\",\n        \"std\": 0.8118265380058575,\n        \"min\": 11.03,\n        \"max\": 14.83,\n        \"num_unique_values\": 126,\n        \"samples\": [\n          11.62,\n          13.64,\n          13.69\n        ],\n        \"semantic_type\": \"\",\n        \"description\": \"\"\n      }\n    },\n    {\n      \"column\": \"Malic acid\",\n      \"properties\": {\n        \"dtype\": \"number\",\n        \"std\": 1.1171460976144627,\n        \"min\": 0.74,\n        \"max\": 5.8,\n        \"num_unique_values\": 133,\n        \"samples\": [\n          1.21,\n          2.83,\n          1.8\n        ],\n        \"semantic_type\": \"\",\n        \"description\": \"\"\n      }\n    },\n    {\n      \"column\": \" Ash\",\n      \"properties\": {\n        \"dtype\": \"number\",\n        \"std\": 0.27434400906081485,\n        \"min\": 1.36,\n        \"max\": 3.23,\n        \"num_unique_values\": 79,\n        \"samples\": [\n          2.31,\n          2.43,\n          2.52\n        ],\n        \"semantic_type\": \"\",\n        \"description\": \"\"\n      }\n    },\n    {\n      \"column\": \" Alcalinity of ash\",\n      \"properties\": {\n        \"dtype\": \"number\",\n        \"std\": 3.339563767173505,\n        \"min\": 10.6,\n        \"max\": 30.0,\n        \"num_unique_values\": 63,\n        \"samples\": [\n          25.5,\n          28.5,\n          15.6\n        ],\n        \"semantic_type\": \"\",\n        \"description\": \"\"\n      }\n    },\n    {\n      \"column\": \"Magnesium\",\n      \"properties\": {\n        \"dtype\": \"number\",\n        \"std\": 14,\n        \"min\": 70,\n        \"max\": 162,\n        \"num_unique_values\": 53,\n        \"samples\": [\n          126,\n          85,\n          162\n        ],\n        \"semantic_type\": \"\",\n        \"description\": \"\"\n      }\n    },\n    {\n      \"column\": \"Total phenols\",\n      \"properties\": {\n        \"dtype\": \"number\",\n        \"std\": 0.6258510488339893,\n        \"min\": 0.98,\n        \"max\": 3.88,\n        \"num_unique_values\": 97,\n        \"samples\": [\n          1.68,\n          2.11,\n          1.35\n        ],\n        \"semantic_type\": \"\",\n        \"description\": \"\"\n      }\n    },\n    {\n      \"column\": \"Flavanoids\",\n      \"properties\": {\n        \"dtype\": \"number\",\n        \"std\": 0.9988586850169467,\n        \"min\": 0.34,\n        \"max\": 5.08,\n        \"num_unique_values\": 132,\n        \"samples\": [\n          3.18,\n          2.5,\n          3.17\n        ],\n        \"semantic_type\": \"\",\n        \"description\": \"\"\n      }\n    },\n    {\n      \"column\": \"Nonflavanoid phenols\",\n      \"properties\": {\n        \"dtype\": \"number\",\n        \"std\": 0.12445334029667937,\n        \"min\": 0.13,\n        \"max\": 0.66,\n        \"num_unique_values\": 39,\n        \"samples\": [\n          0.58,\n          0.41,\n          0.39\n        ],\n        \"semantic_type\": \"\",\n        \"description\": \"\"\n      }\n    },\n    {\n      \"column\": \"Proanthocyanins\",\n      \"properties\": {\n        \"dtype\": \"number\",\n        \"std\": 0.5723588626747613,\n        \"min\": 0.41,\n        \"max\": 3.58,\n        \"num_unique_values\": 101,\n        \"samples\": [\n          0.75,\n          1.77,\n          1.42\n        ],\n        \"semantic_type\": \"\",\n        \"description\": \"\"\n      }\n    },\n    {\n      \"column\": \"Color intensity\",\n      \"properties\": {\n        \"dtype\": \"number\",\n        \"std\": 2.318285871822413,\n        \"min\": 1.28,\n        \"max\": 13.0,\n        \"num_unique_values\": 132,\n        \"samples\": [\n          2.95,\n          3.3,\n          5.1\n        ],\n        \"semantic_type\": \"\",\n        \"description\": \"\"\n      }\n    },\n    {\n      \"column\": \"Hue\",\n      \"properties\": {\n        \"dtype\": \"number\",\n        \"std\": 0.22857156582982338,\n        \"min\": 0.48,\n        \"max\": 1.71,\n        \"num_unique_values\": 78,\n        \"samples\": [\n          1.22,\n          1.04,\n          1.45\n        ],\n        \"semantic_type\": \"\",\n        \"description\": \"\"\n      }\n    },\n    {\n      \"column\": \"OD280/OD315 of diluted wines\",\n      \"properties\": {\n        \"dtype\": \"number\",\n        \"std\": 0.7099904287650504,\n        \"min\": 1.27,\n        \"max\": 4.0,\n        \"num_unique_values\": 122,\n        \"samples\": [\n          4.0,\n          1.82,\n          1.59\n        ],\n        \"semantic_type\": \"\",\n        \"description\": \"\"\n      }\n    },\n    {\n      \"column\": \"Proline\",\n      \"properties\": {\n        \"dtype\": \"number\",\n        \"std\": 314,\n        \"min\": 278,\n        \"max\": 1680,\n        \"num_unique_values\": 121,\n        \"samples\": [\n          1375,\n          1270,\n          735\n        ],\n        \"semantic_type\": \"\",\n        \"description\": \"\"\n      }\n    }\n  ]\n}"
            }
          },
          "metadata": {},
          "execution_count": 5
        }
      ]
    },
    {
      "cell_type": "code",
      "source": [
        "X = base.iloc[:, 1:14].values\n",
        "y = base.iloc[:, 0].values"
      ],
      "metadata": {
        "id": "PFZNm9ehJc83"
      },
      "execution_count": null,
      "outputs": []
    },
    {
      "cell_type": "code",
      "source": [
        "X"
      ],
      "metadata": {
        "colab": {
          "base_uri": "https://localhost:8080/"
        },
        "id": "Cph9tw7RJsR-",
        "outputId": "3d21b7b4-f663-4e13-ed5e-57452db75714"
      },
      "execution_count": null,
      "outputs": [
        {
          "output_type": "execute_result",
          "data": {
            "text/plain": [
              "array([[1.423e+01, 1.710e+00, 2.430e+00, ..., 1.040e+00, 3.920e+00,\n",
              "        1.065e+03],\n",
              "       [1.320e+01, 1.780e+00, 2.140e+00, ..., 1.050e+00, 3.400e+00,\n",
              "        1.050e+03],\n",
              "       [1.316e+01, 2.360e+00, 2.670e+00, ..., 1.030e+00, 3.170e+00,\n",
              "        1.185e+03],\n",
              "       ...,\n",
              "       [1.327e+01, 4.280e+00, 2.260e+00, ..., 5.900e-01, 1.560e+00,\n",
              "        8.350e+02],\n",
              "       [1.317e+01, 2.590e+00, 2.370e+00, ..., 6.000e-01, 1.620e+00,\n",
              "        8.400e+02],\n",
              "       [1.413e+01, 4.100e+00, 2.740e+00, ..., 6.100e-01, 1.600e+00,\n",
              "        5.600e+02]])"
            ]
          },
          "metadata": {},
          "execution_count": 7
        }
      ]
    },
    {
      "cell_type": "code",
      "source": [
        "y"
      ],
      "metadata": {
        "colab": {
          "base_uri": "https://localhost:8080/"
        },
        "id": "dT36Rzq8JuIe",
        "outputId": "5cb403a7-505a-4da9-eb3b-8ae7a86d2c87"
      },
      "execution_count": null,
      "outputs": [
        {
          "output_type": "execute_result",
          "data": {
            "text/plain": [
              "array([1, 1, 1, 1, 1, 1, 1, 1, 1, 1, 1, 1, 1, 1, 1, 1, 1, 1, 1, 1, 1, 1,\n",
              "       1, 1, 1, 1, 1, 1, 1, 1, 1, 1, 1, 1, 1, 1, 1, 1, 1, 1, 1, 1, 1, 1,\n",
              "       1, 1, 1, 1, 1, 1, 1, 1, 1, 1, 1, 1, 1, 1, 1, 2, 2, 2, 2, 2, 2, 2,\n",
              "       2, 2, 2, 2, 2, 2, 2, 2, 2, 2, 2, 2, 2, 2, 2, 2, 2, 2, 2, 2, 2, 2,\n",
              "       2, 2, 2, 2, 2, 2, 2, 2, 2, 2, 2, 2, 2, 2, 2, 2, 2, 2, 2, 2, 2, 2,\n",
              "       2, 2, 2, 2, 2, 2, 2, 2, 2, 2, 2, 2, 2, 2, 2, 2, 2, 2, 2, 2, 3, 3,\n",
              "       3, 3, 3, 3, 3, 3, 3, 3, 3, 3, 3, 3, 3, 3, 3, 3, 3, 3, 3, 3, 3, 3,\n",
              "       3, 3, 3, 3, 3, 3, 3, 3, 3, 3, 3, 3, 3, 3, 3, 3, 3, 3, 3, 3, 3, 3,\n",
              "       3, 3])"
            ]
          },
          "metadata": {},
          "execution_count": 8
        }
      ]
    },
    {
      "cell_type": "code",
      "source": [
        "normalizador = MinMaxScaler(feature_range=(0,1))\n",
        "X = normalizador.fit_transform(X)"
      ],
      "metadata": {
        "id": "DZZxansdJyx4"
      },
      "execution_count": null,
      "outputs": []
    },
    {
      "cell_type": "code",
      "source": [
        "X"
      ],
      "metadata": {
        "colab": {
          "base_uri": "https://localhost:8080/"
        },
        "id": "sicT46LPKCVs",
        "outputId": "9b943b61-e64d-463c-d829-9e9c75473220"
      },
      "execution_count": null,
      "outputs": [
        {
          "output_type": "execute_result",
          "data": {
            "text/plain": [
              "array([[0.84210526, 0.1916996 , 0.57219251, ..., 0.45528455, 0.97069597,\n",
              "        0.56134094],\n",
              "       [0.57105263, 0.2055336 , 0.4171123 , ..., 0.46341463, 0.78021978,\n",
              "        0.55064194],\n",
              "       [0.56052632, 0.3201581 , 0.70053476, ..., 0.44715447, 0.6959707 ,\n",
              "        0.64693295],\n",
              "       ...,\n",
              "       [0.58947368, 0.69960474, 0.48128342, ..., 0.08943089, 0.10622711,\n",
              "        0.39728959],\n",
              "       [0.56315789, 0.36561265, 0.54010695, ..., 0.09756098, 0.12820513,\n",
              "        0.40085592],\n",
              "       [0.81578947, 0.66403162, 0.73796791, ..., 0.10569106, 0.12087912,\n",
              "        0.20114123]])"
            ]
          },
          "metadata": {},
          "execution_count": 10
        }
      ]
    },
    {
      "cell_type": "code",
      "source": [
        "X.shape"
      ],
      "metadata": {
        "colab": {
          "base_uri": "https://localhost:8080/"
        },
        "id": "fk-IX0mWMtwn",
        "outputId": "95b32b67-4106-4768-9ccf-9e37bab1655c"
      },
      "execution_count": null,
      "outputs": [
        {
          "output_type": "execute_result",
          "data": {
            "text/plain": [
              "(178, 13)"
            ]
          },
          "metadata": {},
          "execution_count": 11
        }
      ]
    },
    {
      "cell_type": "code",
      "source": [
        "som = MiniSom(x = 8, y = 8, input_len = 13, sigma = 1.0, learning_rate = 0.5, random_seed = 2)"
      ],
      "metadata": {
        "id": "xG46OFeXMQ0_"
      },
      "execution_count": null,
      "outputs": []
    },
    {
      "cell_type": "code",
      "source": [
        "som.random_weights_init(X)"
      ],
      "metadata": {
        "id": "SzOivOeHNXd4"
      },
      "execution_count": null,
      "outputs": []
    },
    {
      "cell_type": "code",
      "source": [
        "som.train_random(data = X, num_iteration=600)"
      ],
      "metadata": {
        "id": "vWK2EbxHNqS8"
      },
      "execution_count": null,
      "outputs": []
    },
    {
      "cell_type": "code",
      "source": [
        "som._weights.shape"
      ],
      "metadata": {
        "colab": {
          "base_uri": "https://localhost:8080/"
        },
        "id": "lgs7wyywOLSg",
        "outputId": "70b06263-b8a8-4fcb-8308-cdbff1bc81c9"
      },
      "execution_count": null,
      "outputs": [
        {
          "output_type": "execute_result",
          "data": {
            "text/plain": [
              "(8, 8, 13)"
            ]
          },
          "metadata": {},
          "execution_count": 75
        }
      ]
    },
    {
      "cell_type": "code",
      "source": [
        "som._weights"
      ],
      "metadata": {
        "colab": {
          "base_uri": "https://localhost:8080/"
        },
        "id": "IQI_AbSQOBcM",
        "outputId": "793bccf2-cc32-420c-f578-26db2688e656"
      },
      "execution_count": null,
      "outputs": [
        {
          "output_type": "execute_result",
          "data": {
            "text/plain": [
              "array([[[0.41619617, 0.39449386, 0.50685798, 0.4422608 , 0.28651455,\n",
              "         0.62779354, 0.50350414, 0.5263484 , 0.54477405, 0.19242564,\n",
              "         0.67435595, 0.63823686, 0.28429463],\n",
              "        [0.72914786, 0.57451979, 0.52076754, 0.31312334, 0.38252807,\n",
              "         0.62951827, 0.53988429, 0.23959452, 0.4316248 , 0.29844888,\n",
              "         0.37657397, 0.72298876, 0.47053241],\n",
              "        [0.53371796, 0.32082308, 0.51228125, 0.37102385, 0.25630737,\n",
              "         0.44474728, 0.24429873, 0.66662266, 0.3169272 , 0.33613626,\n",
              "         0.26874899, 0.34012126, 0.33540481],\n",
              "        [0.28051343, 0.34827867, 0.83688038, 0.7920189 , 0.41270368,\n",
              "         0.60188459, 0.75799137, 0.68549201, 0.42792331, 0.3603494 ,\n",
              "         0.35878113, 0.70381793, 0.17784128],\n",
              "        [0.58224813, 0.24425604, 0.54544019, 0.43512895, 0.31209432,\n",
              "         0.43000405, 0.42551836, 0.58164702, 0.43839386, 0.20401329,\n",
              "         0.59252411, 0.53116227, 0.40113876],\n",
              "        [0.2678605 , 0.33046249, 0.48202195, 0.54613877, 0.20415451,\n",
              "         0.33223401, 0.27995379, 0.5101902 , 0.37654356, 0.06484551,\n",
              "         0.54682809, 0.55658698, 0.18773945],\n",
              "        [0.34418588, 0.2921797 , 0.60498227, 0.56612571, 0.29972628,\n",
              "         0.48563813, 0.35881861, 0.44801451, 0.30788197, 0.13528876,\n",
              "         0.39906956, 0.67376594, 0.14735469],\n",
              "        [0.59846414, 0.65176846, 0.79144405, 0.69276934, 0.45821521,\n",
              "         0.40052856, 0.21413843, 0.32783828, 0.27421571, 0.5168789 ,\n",
              "         0.2410558 , 0.32417869, 0.26267489]],\n",
              "\n",
              "       [[0.82465419, 0.20228   , 0.56908035, 0.22357259, 0.37323884,\n",
              "         0.80473754, 0.69017664, 0.357182  , 0.5608355 , 0.48595884,\n",
              "         0.5041036 , 0.62455205, 0.75147451],\n",
              "        [0.68747546, 0.32602742, 0.54994139, 0.35006807, 0.3300994 ,\n",
              "         0.56759352, 0.52133542, 0.39688756, 0.44652398, 0.33794432,\n",
              "         0.43061852, 0.68592346, 0.54209022],\n",
              "        [0.60267622, 0.3561988 , 0.57399199, 0.49815709, 0.29422536,\n",
              "         0.36206951, 0.36672658, 0.38859913, 0.30618818, 0.3556358 ,\n",
              "         0.31098592, 0.38298209, 0.40173807],\n",
              "        [0.49873998, 0.61307091, 0.6003215 , 0.5939424 , 0.23044643,\n",
              "         0.33435184, 0.25990123, 0.7910449 , 0.3208548 , 0.3027051 ,\n",
              "         0.33011416, 0.3287319 , 0.26555948],\n",
              "        [0.28482706, 0.26647427, 0.62270477, 0.66333765, 0.20816083,\n",
              "         0.34125318, 0.31880486, 0.67371033, 0.33861641, 0.1588758 ,\n",
              "         0.50801803, 0.46703229, 0.21186613],\n",
              "        [0.26986045, 0.14049283, 0.60597528, 0.62443637, 0.19757075,\n",
              "         0.31021457, 0.26871479, 0.56511566, 0.30004146, 0.12000537,\n",
              "         0.66942139, 0.50025999, 0.17491883],\n",
              "        [0.46806884, 0.35448931, 0.60396645, 0.55239831, 0.24802718,\n",
              "         0.3397089 , 0.24788443, 0.58776921, 0.34534674, 0.31419195,\n",
              "         0.44793531, 0.38404184, 0.18280668],\n",
              "        [0.50970188, 0.30656217, 0.7782086 , 0.56296016, 0.44946648,\n",
              "         0.52476865, 0.43941362, 0.56498463, 0.4350758 , 0.2182215 ,\n",
              "         0.47949052, 0.58119753, 0.29986008]],\n",
              "\n",
              "       [[0.64120308, 0.20964677, 0.52066916, 0.33027773, 0.30041738,\n",
              "         0.52319142, 0.43929705, 0.36273695, 0.3652796 , 0.35301612,\n",
              "         0.460148  , 0.51349355, 0.62557607],\n",
              "        [0.76783504, 0.20916253, 0.55685855, 0.3275191 , 0.32034034,\n",
              "         0.58602374, 0.54459116, 0.23061014, 0.49968757, 0.38080811,\n",
              "         0.52635633, 0.69157298, 0.76104766],\n",
              "        [0.67121773, 0.20981535, 0.59765362, 0.39060332, 0.34306439,\n",
              "         0.55930227, 0.50132057, 0.36698768, 0.43765427, 0.40843729,\n",
              "         0.46007191, 0.54638984, 0.62448673],\n",
              "        [0.61085346, 0.29231131, 0.63970266, 0.40191309, 0.31211311,\n",
              "         0.56376628, 0.50778621, 0.47797653, 0.37893734, 0.36027529,\n",
              "         0.43878431, 0.53496552, 0.55020497],\n",
              "        [0.28909013, 0.25519389, 0.44244343, 0.40640174, 0.30395592,\n",
              "         0.25765778, 0.27056944, 0.48137449, 0.2739077 , 0.19392276,\n",
              "         0.50551801, 0.38239214, 0.24057538],\n",
              "        [0.33562521, 0.21026973, 0.52261534, 0.58807269, 0.17341417,\n",
              "         0.41940285, 0.33000298, 0.44638522, 0.2958561 , 0.09384908,\n",
              "         0.52086366, 0.57429887, 0.17625664],\n",
              "        [0.3731612 , 0.38089216, 0.55984037, 0.52378719, 0.19763839,\n",
              "         0.38942923, 0.34115343, 0.51688206, 0.34524867, 0.15229283,\n",
              "         0.43420776, 0.5641952 , 0.26607429],\n",
              "        [0.39329841, 0.18092104, 0.53630263, 0.50256425, 0.16920839,\n",
              "         0.22710108, 0.26881072, 0.71501116, 0.38484966, 0.16540269,\n",
              "         0.4393446 , 0.42816115, 0.19454335]],\n",
              "\n",
              "       [[0.67017273, 0.13657948, 0.39161021, 0.33617649, 0.28263463,\n",
              "         0.46454389, 0.40454708, 0.31157628, 0.22692777, 0.25195529,\n",
              "         0.56873253, 0.50680025, 0.42578744],\n",
              "        [0.71048922, 0.18858097, 0.59108444, 0.39312055, 0.32259803,\n",
              "         0.59252135, 0.49792722, 0.33833774, 0.45572951, 0.43722839,\n",
              "         0.4776289 , 0.5473095 , 0.60338979],\n",
              "        [0.66723643, 0.22071893, 0.65376755, 0.43898816, 0.38249563,\n",
              "         0.65957653, 0.58015078, 0.29141308, 0.57104539, 0.39965285,\n",
              "         0.49199204, 0.60690036, 0.64644637],\n",
              "        [0.63632753, 0.28565871, 0.62612567, 0.44572002, 0.32461065,\n",
              "         0.61313452, 0.4817469 , 0.41951477, 0.40047684, 0.41523701,\n",
              "         0.43038444, 0.49094046, 0.49258073],\n",
              "        [0.64316629, 0.30810624, 0.67618185, 0.59786991, 0.35080947,\n",
              "         0.33322294, 0.24769895, 0.47148971, 0.35490776, 0.50432519,\n",
              "         0.31403249, 0.33968606, 0.39713053],\n",
              "        [0.70395266, 0.45861172, 0.64945401, 0.58008984, 0.29187661,\n",
              "         0.42077209, 0.21601337, 0.66908905, 0.29335639, 0.48460853,\n",
              "         0.27232275, 0.33199631, 0.28230425],\n",
              "        [0.67246327, 0.20100466, 0.49521611, 0.2954311 , 0.30381953,\n",
              "         0.55978157, 0.46838585, 0.27119299, 0.4178823 , 0.2714967 ,\n",
              "         0.46989263, 0.82551949, 0.50715429],\n",
              "        [0.51985944, 0.18690234, 0.61515908, 0.40080468, 0.27542972,\n",
              "         0.48834149, 0.42959137, 0.32573924, 0.35932441, 0.21739222,\n",
              "         0.49467381, 0.80238246, 0.44983867]],\n",
              "\n",
              "       [[0.58935754, 0.46700143, 0.49416376, 0.49121338, 0.40978099,\n",
              "         0.26475155, 0.29188672, 0.37024959, 0.25180773, 0.56206988,\n",
              "         0.23314588, 0.18825328, 0.26004637],\n",
              "        [0.72889297, 0.31848849, 0.50631585, 0.36724523, 0.28019439,\n",
              "         0.51048688, 0.41620466, 0.41315301, 0.43776241, 0.44566893,\n",
              "         0.39504947, 0.45457479, 0.39585868],\n",
              "        [0.75053719, 0.18182045, 0.5307079 , 0.3564452 , 0.31618293,\n",
              "         0.64123074, 0.56388727, 0.31869824, 0.50834598, 0.34415446,\n",
              "         0.52634648, 0.59142619, 0.5003133 ],\n",
              "        [0.61984067, 0.16709827, 0.53777627, 0.50242084, 0.25552702,\n",
              "         0.57932848, 0.48112677, 0.27141212, 0.45367003, 0.24397741,\n",
              "         0.53933419, 0.64993787, 0.3098869 ],\n",
              "        [0.47070898, 0.11263927, 0.50516702, 0.37895344, 0.21018691,\n",
              "         0.42490854, 0.17132679, 0.74846516, 0.27856547, 0.32801591,\n",
              "         0.32520442, 0.21612924, 0.29110744],\n",
              "        [0.43051002, 0.09638567, 0.34219809, 0.2576888 , 0.31750748,\n",
              "         0.38854045, 0.19179208, 0.67988793, 0.05208171, 0.25511523,\n",
              "         0.45837885, 0.1857808 , 0.19949186],\n",
              "        [0.5307873 , 0.46254982, 0.64594106, 0.38588018, 0.34886443,\n",
              "         0.50342077, 0.43204374, 0.2903022 , 0.42732115, 0.26412582,\n",
              "         0.46185297, 0.76692154, 0.3764293 ],\n",
              "        [0.64966002, 0.20954554, 0.71158217, 0.39833042, 0.41374932,\n",
              "         0.53350533, 0.48589608, 0.34332806, 0.36314994, 0.25919139,\n",
              "         0.52383606, 0.646302  , 0.52064233]],\n",
              "\n",
              "       [[0.36763515, 0.11409883, 0.3287641 , 0.35975354, 0.32305734,\n",
              "         0.46383124, 0.38996394, 0.41641984, 0.57899189, 0.18305967,\n",
              "         0.38389868, 0.59168448, 0.16847824],\n",
              "        [0.47695614, 0.18082949, 0.40645682, 0.35154414, 0.22533005,\n",
              "         0.46023537, 0.47870387, 0.29748655, 0.51651946, 0.27220511,\n",
              "         0.50096894, 0.64901012, 0.33178965],\n",
              "        [0.44534876, 0.10699137, 0.41257815, 0.40320946, 0.28324904,\n",
              "         0.69933052, 0.51959298, 0.18689819, 0.48907762, 0.26673546,\n",
              "         0.50691482, 0.62880612, 0.31577   ],\n",
              "        [0.49199109, 0.27640253, 0.54434437, 0.45627829, 0.4219427 ,\n",
              "         0.36372019, 0.32999783, 0.19142914, 0.37710429, 0.27398763,\n",
              "         0.39186333, 0.36281032, 0.26360739],\n",
              "        [0.4778838 , 0.30136122, 0.49586925, 0.45404516, 0.20146531,\n",
              "         0.20271616, 0.09582018, 0.60909404, 0.12920177, 0.66738451,\n",
              "         0.13903519, 0.19141252, 0.16383458],\n",
              "        [0.67548132, 0.33224578, 0.48638795, 0.53367089, 0.2384709 ,\n",
              "         0.19206222, 0.11491951, 0.53479142, 0.19129454, 0.60569146,\n",
              "         0.24992952, 0.19832896, 0.23645445],\n",
              "        [0.4987861 , 0.1657051 , 0.45679173, 0.53474677, 0.19805379,\n",
              "         0.28381215, 0.34407431, 0.47244644, 0.35011772, 0.19889935,\n",
              "         0.4107979 , 0.50974607, 0.16690401],\n",
              "        [0.65619255, 0.39034659, 0.46514085, 0.39080972, 0.27599797,\n",
              "         0.40050987, 0.25416936, 0.59516536, 0.28475446, 0.36750828,\n",
              "         0.34027129, 0.42165093, 0.30084114]],\n",
              "\n",
              "       [[0.60740995, 0.18669676, 0.59848355, 0.48856398, 0.22907085,\n",
              "         0.5650194 , 0.27608281, 0.56775975, 0.63618008, 0.76545313,\n",
              "         0.19790735, 0.30241878, 0.32631505],\n",
              "        [0.5644793 , 0.19151769, 0.40218353, 0.27426091, 0.39378301,\n",
              "         0.6229811 , 0.56377423, 0.17901735, 0.66336589, 0.348936  ,\n",
              "         0.4746908 , 0.65514184, 0.47268315],\n",
              "        [0.49858573, 0.14982768, 0.48157641, 0.47618557, 0.70398742,\n",
              "         0.59022725, 0.45208284, 0.29657173, 0.60462556, 0.23240015,\n",
              "         0.59650584, 0.64118337, 0.48139528],\n",
              "        [0.56137283, 0.28188037, 0.51795397, 0.44276476, 0.57818459,\n",
              "         0.38439041, 0.25161845, 0.55406358, 0.45978223, 0.49210912,\n",
              "         0.28616252, 0.34771135, 0.44018441],\n",
              "        [0.45462689, 0.32093084, 0.52540705, 0.54919196, 0.29726923,\n",
              "         0.3315698 , 0.36668207, 0.86441437, 0.35038662, 0.17795674,\n",
              "         0.35923031, 0.70756607, 0.17200613],\n",
              "        [0.38912345, 0.25087627, 0.52536279, 0.47649372, 0.29386981,\n",
              "         0.51715692, 0.38582972, 0.36552922, 0.3133323 , 0.15896819,\n",
              "         0.37152507, 0.70769801, 0.13873346],\n",
              "        [0.4199752 , 0.08469878, 0.3683018 , 0.36068087, 0.22436364,\n",
              "         0.47961052, 0.41298003, 0.28808457, 0.35610523, 0.21203243,\n",
              "         0.57913599, 0.65346548, 0.15351073],\n",
              "        [0.72239965, 0.17601154, 0.48056593, 0.29275234, 0.48643433,\n",
              "         0.66880067, 0.56534779, 0.24423676, 0.50841526, 0.38054292,\n",
              "         0.41280954, 0.80323246, 0.45868282]],\n",
              "\n",
              "       [[0.28827245, 0.48191476, 0.35346437, 0.39386684, 0.20011206,\n",
              "         0.39296285, 0.32045904, 0.39512254, 0.49854768, 0.060534  ,\n",
              "         0.39595441, 0.64960668, 0.23743184],\n",
              "        [0.29853763, 0.28396696, 0.44344323, 0.41188062, 0.25362289,\n",
              "         0.58259033, 0.46281839, 0.27319108, 0.42990586, 0.16819134,\n",
              "         0.45114626, 0.68464999, 0.13819735],\n",
              "        [0.67810151, 0.47270192, 0.62645094, 0.56358741, 0.41941277,\n",
              "         0.45287029, 0.25098444, 0.57801815, 0.44912462, 0.48770819,\n",
              "         0.28831501, 0.34356914, 0.31554144],\n",
              "        [0.76995424, 0.2599622 , 0.65738162, 0.37390563, 0.57368321,\n",
              "         0.57190291, 0.47038564, 0.35920395, 0.32608743, 0.32295408,\n",
              "         0.48534931, 0.78611731, 0.70482466],\n",
              "        [0.74626274, 0.21716458, 0.70783439, 0.38673508, 0.5397477 ,\n",
              "         0.67299422, 0.52360779, 0.50400353, 0.38995117, 0.40430413,\n",
              "         0.53692382, 0.60805157, 0.74517824],\n",
              "        [0.61992371, 0.47862834, 0.60243126, 0.5681024 , 0.37234055,\n",
              "         0.36831451, 0.21259788, 0.52159642, 0.35086661, 0.45507699,\n",
              "         0.29427043, 0.23594618, 0.37763117],\n",
              "        [0.27828576, 0.04949854, 0.55037047, 0.43813125, 0.24416122,\n",
              "         0.50800788, 0.41362742, 0.44242196, 0.40016809, 0.21079634,\n",
              "         0.53890931, 0.45231979, 0.17910631],\n",
              "        [0.3559587 , 0.12421868, 0.43816792, 0.42489934, 0.25622754,\n",
              "         0.46020966, 0.38976972, 0.27601256, 0.45163842, 0.1797732 ,\n",
              "         0.38065765, 0.7135421 , 0.23843668]]])"
            ]
          },
          "metadata": {},
          "execution_count": 76
        }
      ]
    },
    {
      "cell_type": "code",
      "source": [
        "som._activation_map.shape"
      ],
      "metadata": {
        "colab": {
          "base_uri": "https://localhost:8080/"
        },
        "id": "QUxpnCCrPEqC",
        "outputId": "38ad310e-dee7-45ed-f0a7-545e43799708"
      },
      "execution_count": null,
      "outputs": [
        {
          "output_type": "execute_result",
          "data": {
            "text/plain": [
              "(8, 8)"
            ]
          },
          "metadata": {},
          "execution_count": 49
        }
      ]
    },
    {
      "cell_type": "code",
      "source": [
        "8 * 8"
      ],
      "metadata": {
        "colab": {
          "base_uri": "https://localhost:8080/"
        },
        "id": "qLZlG-REPI9K",
        "outputId": "827567b5-5b7f-4210-a50d-b263a6d22c74"
      },
      "execution_count": null,
      "outputs": [
        {
          "output_type": "execute_result",
          "data": {
            "text/plain": [
              "64"
            ]
          },
          "metadata": {},
          "execution_count": 50
        }
      ]
    },
    {
      "cell_type": "code",
      "source": [
        "som._activation_map"
      ],
      "metadata": {
        "colab": {
          "base_uri": "https://localhost:8080/"
        },
        "id": "FKYIcTsoO-ch",
        "outputId": "be18fb16-b44f-4044-ef91-7a7bf107920b"
      },
      "execution_count": null,
      "outputs": [
        {
          "output_type": "execute_result",
          "data": {
            "text/plain": [
              "array([[0.44956876, 0.56993624, 0.5989823 , 1.01076888, 0.99602082,\n",
              "        1.02694534, 1.02621946, 1.0434932 ],\n",
              "       [0.35569965, 0.35245628, 0.39140785, 0.62257843, 1.16354021,\n",
              "        0.97447592, 1.00274683, 1.08165079],\n",
              "       [0.43565266, 0.5284021 , 0.53599411, 0.40713493, 1.03750681,\n",
              "        1.10117289, 1.13923   , 1.2132762 ],\n",
              "       [0.60259955, 0.45608407, 0.44432482, 0.52753919, 1.02341705,\n",
              "        1.01268717, 0.87906209, 0.80984426],\n",
              "       [1.26708687, 0.84962124, 0.80980696, 0.81760962, 1.16372211,\n",
              "        1.16743137, 0.7144217 , 0.49091743],\n",
              "       [1.12651402, 0.98707452, 1.09193669, 0.94942721, 1.20554389,\n",
              "        1.10402909, 0.50895849, 0.38530815],\n",
              "       [0.8996517 , 0.89958258, 0.84790479, 1.12247065, 1.34449129,\n",
              "        1.27627718, 0.73433383, 0.43657318],\n",
              "       [1.07857222, 0.9406111 , 0.82548421, 1.17727479, 1.37946851,\n",
              "        1.2744922 , 1.17754265, 0.54958005]])"
            ]
          },
          "metadata": {},
          "execution_count": 51
        }
      ]
    },
    {
      "cell_type": "code",
      "source": [
        "q = som.activation_response(X)"
      ],
      "metadata": {
        "id": "5qHwoK8bRC8S"
      },
      "execution_count": null,
      "outputs": []
    },
    {
      "cell_type": "code",
      "source": [
        "q.shape"
      ],
      "metadata": {
        "id": "Ic1EODkCRK7l",
        "outputId": "65909312-f66a-47ae-e2a3-3d19486b8594",
        "colab": {
          "base_uri": "https://localhost:8080/"
        }
      },
      "execution_count": null,
      "outputs": [
        {
          "output_type": "execute_result",
          "data": {
            "text/plain": [
              "(8, 8)"
            ]
          },
          "metadata": {},
          "execution_count": 53
        }
      ]
    },
    {
      "cell_type": "code",
      "source": [
        "q"
      ],
      "metadata": {
        "id": "bHzBa3N8RIyW",
        "outputId": "8086c52f-eb55-49da-f06e-ad5d89a19d78",
        "colab": {
          "base_uri": "https://localhost:8080/"
        }
      },
      "execution_count": null,
      "outputs": [
        {
          "output_type": "execute_result",
          "data": {
            "text/plain": [
              "array([[1., 3., 3., 3., 1., 3., 4., 3.],\n",
              "       [2., 2., 3., 2., 2., 5., 2., 2.],\n",
              "       [3., 6., 5., 4., 2., 3., 3., 6.],\n",
              "       [0., 4., 4., 2., 1., 0., 0., 0.],\n",
              "       [6., 0., 3., 1., 3., 3., 1., 5.],\n",
              "       [1., 3., 3., 1., 5., 0., 1., 4.],\n",
              "       [0., 2., 5., 3., 5., 5., 0., 5.],\n",
              "       [3., 3., 0., 4., 7., 7., 5., 0.]])"
            ]
          },
          "metadata": {},
          "execution_count": 54
        }
      ]
    },
    {
      "cell_type": "code",
      "source": [
        "som.distance_map()"
      ],
      "metadata": {
        "colab": {
          "base_uri": "https://localhost:8080/"
        },
        "id": "29CnSQXxXPWz",
        "outputId": "e8f18712-0da5-41ea-b92b-075d6c020a97"
      },
      "execution_count": null,
      "outputs": [
        {
          "output_type": "execute_result",
          "data": {
            "text/plain": [
              "array([[0.2083343 , 0.49505489, 0.36595943, 0.53699424, 0.45495886,\n",
              "        0.34144116, 0.38726523, 0.30690068],\n",
              "       [0.42165932, 0.55767422, 0.61038474, 0.6703502 , 0.72213498,\n",
              "        0.70487649, 0.61226905, 0.42821316],\n",
              "       [0.2985044 , 0.56081598, 0.50712765, 0.63841767, 0.69735999,\n",
              "        0.63637679, 0.62002727, 0.45337874],\n",
              "       [0.42719358, 0.69786223, 0.57788103, 0.72557657, 0.70988856,\n",
              "        0.53842819, 0.62533991, 0.41288023],\n",
              "       [0.70338841, 0.82461606, 0.81696335, 0.80662148, 0.67614852,\n",
              "        0.77814384, 0.72799339, 0.50103284],\n",
              "       [0.5632557 , 1.        , 0.89906084, 0.84171289, 0.79993029,\n",
              "        0.77343915, 0.91744271, 0.44542737],\n",
              "       [0.4322163 , 0.68899436, 0.81167546, 0.89110166, 0.95022937,\n",
              "        0.95904814, 0.96245848, 0.57107232],\n",
              "       [0.27782021, 0.42071268, 0.48020104, 0.66491414, 0.52463645,\n",
              "        0.61668718, 0.74746839, 0.28013285]])"
            ]
          },
          "metadata": {},
          "execution_count": 66
        }
      ]
    },
    {
      "cell_type": "code",
      "source": [
        "pcolor(som.distance_map().T)\n",
        "colorbar(); # MID - mean inter neuron distance"
      ],
      "metadata": {
        "colab": {
          "base_uri": "https://localhost:8080/",
          "height": 456
        },
        "id": "0zRUkxBNVqMM",
        "outputId": "f091f2e1-3c7d-4981-c0ed-9dddd515d401"
      },
      "execution_count": null,
      "outputs": [
        {
          "output_type": "display_data",
          "data": {
            "text/plain": [
              "<Figure size 640x480 with 2 Axes>"
            ],
            "image/png": "[encoded data removed]"
          },
          "metadata": {}
        }
      ]
    },
    {
      "cell_type": "code",
      "source": [
        "X"
      ],
      "metadata": {
        "colab": {
          "base_uri": "https://localhost:8080/"
        },
        "id": "0s_q86D6amfd",
        "outputId": "889b33b2-630b-4e96-b8b4-c7fe19de1d17"
      },
      "execution_count": null,
      "outputs": [
        {
          "output_type": "execute_result",
          "data": {
            "text/plain": [
              "array([[0.84210526, 0.1916996 , 0.57219251, ..., 0.45528455, 0.97069597,\n",
              "        0.56134094],\n",
              "       [0.57105263, 0.2055336 , 0.4171123 , ..., 0.46341463, 0.78021978,\n",
              "        0.55064194],\n",
              "       [0.56052632, 0.3201581 , 0.70053476, ..., 0.44715447, 0.6959707 ,\n",
              "        0.64693295],\n",
              "       ...,\n",
              "       [0.58947368, 0.69960474, 0.48128342, ..., 0.08943089, 0.10622711,\n",
              "        0.39728959],\n",
              "       [0.56315789, 0.36561265, 0.54010695, ..., 0.09756098, 0.12820513,\n",
              "        0.40085592],\n",
              "       [0.81578947, 0.66403162, 0.73796791, ..., 0.10569106, 0.12087912,\n",
              "        0.20114123]])"
            ]
          },
          "metadata": {},
          "execution_count": 57
        }
      ]
    },
    {
      "cell_type": "code",
      "source": [
        "w = som.winner(X[2])\n",
        "w"
      ],
      "metadata": {
        "colab": {
          "base_uri": "https://localhost:8080/"
        },
        "id": "4gsnHJoCakDM",
        "outputId": "612e3599-9cf2-4f27-ac63-f320b30b52cf"
      },
      "execution_count": null,
      "outputs": [
        {
          "output_type": "execute_result",
          "data": {
            "text/plain": [
              "(3, 2)"
            ]
          },
          "metadata": {},
          "execution_count": 68
        }
      ]
    },
    {
      "cell_type": "code",
      "source": [
        "y"
      ],
      "metadata": {
        "colab": {
          "base_uri": "https://localhost:8080/"
        },
        "id": "uNztI7KucoiO",
        "outputId": "0a677ec1-1dbe-4f4f-9eda-c4b322bed85c"
      },
      "execution_count": null,
      "outputs": [
        {
          "output_type": "execute_result",
          "data": {
            "text/plain": [
              "array([1, 1, 1, 1, 1, 1, 1, 1, 1, 1, 1, 1, 1, 1, 1, 1, 1, 1, 1, 1, 1, 1,\n",
              "       1, 1, 1, 1, 1, 1, 1, 1, 1, 1, 1, 1, 1, 1, 1, 1, 1, 1, 1, 1, 1, 1,\n",
              "       1, 1, 1, 1, 1, 1, 1, 1, 1, 1, 1, 1, 1, 1, 1, 2, 2, 2, 2, 2, 2, 2,\n",
              "       2, 2, 2, 2, 2, 2, 2, 2, 2, 2, 2, 2, 2, 2, 2, 2, 2, 2, 2, 2, 2, 2,\n",
              "       2, 2, 2, 2, 2, 2, 2, 2, 2, 2, 2, 2, 2, 2, 2, 2, 2, 2, 2, 2, 2, 2,\n",
              "       2, 2, 2, 2, 2, 2, 2, 2, 2, 2, 2, 2, 2, 2, 2, 2, 2, 2, 2, 2, 3, 3,\n",
              "       3, 3, 3, 3, 3, 3, 3, 3, 3, 3, 3, 3, 3, 3, 3, 3, 3, 3, 3, 3, 3, 3,\n",
              "       3, 3, 3, 3, 3, 3, 3, 3, 3, 3, 3, 3, 3, 3, 3, 3, 3, 3, 3, 3, 3, 3,\n",
              "       3, 3])"
            ]
          },
          "metadata": {},
          "execution_count": 59
        }
      ]
    },
    {
      "cell_type": "code",
      "source": [
        "markers = ['o', 's', 'D']\n",
        "color = ['r', 'g', 'b']"
      ],
      "metadata": {
        "id": "59QSINN-cLbW"
      },
      "execution_count": null,
      "outputs": []
    },
    {
      "cell_type": "code",
      "source": [
        "markers[0]"
      ],
      "metadata": {
        "colab": {
          "base_uri": "https://localhost:8080/",
          "height": 56
        },
        "id": "wGesOabJcvk8",
        "outputId": "552712a7-4e16-4fb1-c741-539eec4f590c"
      },
      "execution_count": null,
      "outputs": [
        {
          "output_type": "execute_result",
          "data": {
            "text/plain": [
              "'o'"
            ],
            "application/vnd.google.colaboratory.intrinsic+json": {
              "type": "string"
            }
          },
          "metadata": {},
          "execution_count": 70
        }
      ]
    },
    {
      "cell_type": "code",
      "source": [
        "pcolor(som.distance_map().T)\n",
        "colorbar()\n",
        "\n",
        "for i, x in enumerate(X):\n",
        "  #print(i)\n",
        "  #print(x)\n",
        "  w = som.winner(x)\n",
        "  #print(w)\n",
        "  plot(w[0] + 0.5, w[1] + 0.5, markers[y[i] - 1], markerfacecolor='None',\n",
        "       markeredgecolor=color[y[i]-1], markeredgewidth=2, markersize=10)"
      ],
      "metadata": {
        "colab": {
          "base_uri": "https://localhost:8080/",
          "height": 456
        },
        "id": "_MBrvWqIfF0d",
        "outputId": "ebf17754-557c-4971-a60b-eda57a974d49"
      },
      "execution_count": null,
      "outputs": [
        {
          "output_type": "display_data",
          "data": {
            "text/plain": [
              "<Figure size 640x480 with 2 Axes>"
            ],
            "image/png": "[encoded data removed]"
          },
          "metadata": {}
        }
      ]
    }
  ]
}